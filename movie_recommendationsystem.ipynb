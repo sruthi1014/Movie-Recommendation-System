{
  "nbformat": 4,
  "nbformat_minor": 0,
  "metadata": {
    "colab": {
      "name": "movie recommendationsystem.ipynb",
      "provenance": [],
      "collapsed_sections": [],
      "include_colab_link": true
    },
    "kernelspec": {
      "display_name": "Python 3",
      "language": "python",
      "name": "python3"
    },
    "language_info": {
      "codemirror_mode": {
        "name": "ipython",
        "version": 3
      },
      "file_extension": ".py",
      "mimetype": "text/x-python",
      "name": "python",
      "nbconvert_exporter": "python",
      "pygments_lexer": "ipython3",
      "version": "3.7.3"
    }
  },
  "cells": [
    {
      "cell_type": "markdown",
      "metadata": {
        "id": "view-in-github",
        "colab_type": "text"
      },
      "source": [
        "<a href=\"https://colab.research.google.com/github/sruthi1014/Movie-Recommendation-System/blob/master/movie_recommendationsystem.ipynb\" target=\"_parent\"><img src=\"https://colab.research.google.com/assets/colab-badge.svg\" alt=\"Open In Colab\"/></a>"
      ]
    },
    {
      "cell_type": "code",
      "metadata": {
        "colab_type": "code",
        "id": "FqpH9a6aY3Ed",
        "colab": {
          "base_uri": "https://localhost:8080/",
          "height": 121
        },
        "outputId": "8737c36b-f71c-44f3-8eb0-8e1c483545d8"
      },
      "source": [
        "from google.colab import drive\n",
        "drive.mount('/content/drive')"
      ],
      "execution_count": null,
      "outputs": [
        {
          "output_type": "stream",
          "text": [
            "Go to this URL in a browser: https://accounts.google.com/o/oauth2/auth?client_id=947318989803-6bn6qk8qdgf4n4g3pfee6491hc0brc4i.apps.googleusercontent.com&redirect_uri=urn%3aietf%3awg%3aoauth%3a2.0%3aoob&response_type=code&scope=email%20https%3a%2f%2fwww.googleapis.com%2fauth%2fdocs.test%20https%3a%2f%2fwww.googleapis.com%2fauth%2fdrive%20https%3a%2f%2fwww.googleapis.com%2fauth%2fdrive.photos.readonly%20https%3a%2f%2fwww.googleapis.com%2fauth%2fpeopleapi.readonly\n",
            "\n",
            "Enter your authorization code:\n",
            "··········\n",
            "Mounted at /content/drive\n"
          ],
          "name": "stdout"
        }
      ]
    },
    {
      "cell_type": "code",
      "metadata": {
        "colab_type": "code",
        "id": "6JFpYD4zY4np",
        "colab": {}
      },
      "source": [
        "\n",
        "# Install Java JDK\n",
        "!apt-get install openjdk-8-jdk-headless -qq > /dev/null\n",
        "\n",
        "# Download Spark\n",
        "!wget -q http://apache.mirrors.pair.com/spark/spark-2.4.5/spark-2.4.5-bin-hadoop2.7.tgz\n",
        "\n",
        "# Untar the zip file\n",
        "!tar -xvf spark-2.4.5-bin-hadoop2.7.tgz"
      ],
      "execution_count": null,
      "outputs": []
    },
    {
      "cell_type": "code",
      "metadata": {
        "colab_type": "code",
        "id": "pS76umvvY_d0",
        "colab": {
          "base_uri": "https://localhost:8080/",
          "height": 202
        },
        "outputId": "37ca8dc5-7048-4a36-bbef-04fe9b077f35"
      },
      "source": [
        "# Importing the MovieLens dataset\n",
        "!wget http://files.grouplens.org/datasets/movielens/ml-100k.zip"
      ],
      "execution_count": null,
      "outputs": [
        {
          "output_type": "stream",
          "text": [
            "--2020-07-06 06:59:56--  http://files.grouplens.org/datasets/movielens/ml-100k.zip\n",
            "Resolving files.grouplens.org (files.grouplens.org)... 128.101.65.152\n",
            "Connecting to files.grouplens.org (files.grouplens.org)|128.101.65.152|:80... connected.\n",
            "HTTP request sent, awaiting response... 200 OK\n",
            "Length: 4924029 (4.7M) [application/zip]\n",
            "Saving to: ‘ml-100k.zip’\n",
            "\n",
            "ml-100k.zip         100%[===================>]   4.70M  15.3MB/s    in 0.3s    \n",
            "\n",
            "2020-07-06 06:59:57 (15.3 MB/s) - ‘ml-100k.zip’ saved [4924029/4924029]\n",
            "\n"
          ],
          "name": "stdout"
        }
      ]
    },
    {
      "cell_type": "code",
      "metadata": {
        "colab_type": "code",
        "id": "lx5FC_ikZbL3",
        "colab": {
          "base_uri": "https://localhost:8080/",
          "height": 437
        },
        "outputId": "e3861b82-a7a1-4ada-adee-9d5579266f59"
      },
      "source": [
        "# Unzip the file\n",
        "!unzip ml-100k.zip"
      ],
      "execution_count": null,
      "outputs": [
        {
          "output_type": "stream",
          "text": [
            "Archive:  ml-100k.zip\n",
            "   creating: ml-100k/\n",
            "  inflating: ml-100k/allbut.pl       \n",
            "  inflating: ml-100k/mku.sh          \n",
            "  inflating: ml-100k/README          \n",
            "  inflating: ml-100k/u.data          \n",
            "  inflating: ml-100k/u.genre         \n",
            "  inflating: ml-100k/u.info          \n",
            "  inflating: ml-100k/u.item          \n",
            "  inflating: ml-100k/u.occupation    \n",
            "  inflating: ml-100k/u.user          \n",
            "  inflating: ml-100k/u1.base         \n",
            "  inflating: ml-100k/u1.test         \n",
            "  inflating: ml-100k/u2.base         \n",
            "  inflating: ml-100k/u2.test         \n",
            "  inflating: ml-100k/u3.base         \n",
            "  inflating: ml-100k/u3.test         \n",
            "  inflating: ml-100k/u4.base         \n",
            "  inflating: ml-100k/u4.test         \n",
            "  inflating: ml-100k/u5.base         \n",
            "  inflating: ml-100k/u5.test         \n",
            "  inflating: ml-100k/ua.base         \n",
            "  inflating: ml-100k/ua.test         \n",
            "  inflating: ml-100k/ub.base         \n",
            "  inflating: ml-100k/ub.test         \n"
          ],
          "name": "stdout"
        }
      ]
    },
    {
      "cell_type": "code",
      "metadata": {
        "colab_type": "code",
        "id": "maCEdbS7ZfsL",
        "colab": {}
      },
      "source": [
        "# Install findspark\n",
        "!pip install -q findspark\n",
        "\n",
        "# Setup environment variables\n",
        "import os\n",
        "os.environ[\"JAVA_HOME\"] = \"/usr/lib/jvm/java-8-openjdk-amd64\"\n",
        "os.environ[\"SPARK_HOME\"] = \"/content/spark-2.4.5-bin-hadoop2.7\"\n",
        "\n",
        "# Spark Session Initialization\n",
        "import findspark\n",
        "findspark.init()\n",
        "from pyspark.sql import SparkSession\n",
        "spark = SparkSession.builder.master(\"local[*]\").getOrCreate()"
      ],
      "execution_count": null,
      "outputs": []
    },
    {
      "cell_type": "code",
      "metadata": {
        "colab_type": "code",
        "id": "0BKyvrSv4nmS",
        "colab": {}
      },
      "source": [
        "# Mention the Path of the u.data file\n",
        "pathToFile ='/content/ml-100k/u.data'\n",
        "\n",
        "# Read the data file\n",
        "data1 = spark.read.format('com.databricks.spark.csv').\\\n",
        "                               options(header='true', \\\n",
        "                                       delimiter='\\t',\\\n",
        "                               inferschema='true').\\\n",
        "                load(pathToFile,header=False)"
      ],
      "execution_count": null,
      "outputs": []
    },
    {
      "cell_type": "code",
      "metadata": {
        "colab_type": "code",
        "id": "vWJvjwdOBJBR",
        "colab": {
          "base_uri": "https://localhost:8080/",
          "height": 118
        },
        "outputId": "4ed87b42-1e9c-4189-c9eb-1a6fc3ee5428"
      },
      "source": [
        "# print the schema \n",
        "data1.printSchema()"
      ],
      "execution_count": null,
      "outputs": [
        {
          "output_type": "stream",
          "text": [
            "root\n",
            " |-- _c0: integer (nullable = true)\n",
            " |-- _c1: integer (nullable = true)\n",
            " |-- _c2: integer (nullable = true)\n",
            " |-- _c3: integer (nullable = true)\n",
            "\n"
          ],
          "name": "stdout"
        }
      ]
    },
    {
      "cell_type": "code",
      "metadata": {
        "colab_type": "code",
        "id": "1aNxjJoxNrrj",
        "colab": {
          "base_uri": "https://localhost:8080/",
          "height": 454
        },
        "outputId": "771069d5-fc7e-49ea-afb4-a4e23131534f"
      },
      "source": [
        "#Check the first 20 rows of the data\n",
        "data1.show()"
      ],
      "execution_count": null,
      "outputs": [
        {
          "output_type": "stream",
          "text": [
            "+---+----+---+---------+\n",
            "|_c0| _c1|_c2|      _c3|\n",
            "+---+----+---+---------+\n",
            "|196| 242|  3|881250949|\n",
            "|186| 302|  3|891717742|\n",
            "| 22| 377|  1|878887116|\n",
            "|244|  51|  2|880606923|\n",
            "|166| 346|  1|886397596|\n",
            "|298| 474|  4|884182806|\n",
            "|115| 265|  2|881171488|\n",
            "|253| 465|  5|891628467|\n",
            "|305| 451|  3|886324817|\n",
            "|  6|  86|  3|883603013|\n",
            "| 62| 257|  2|879372434|\n",
            "|286|1014|  5|879781125|\n",
            "|200| 222|  5|876042340|\n",
            "|210|  40|  3|891035994|\n",
            "|224|  29|  3|888104457|\n",
            "|303| 785|  3|879485318|\n",
            "|122| 387|  5|879270459|\n",
            "|194| 274|  2|879539794|\n",
            "|291|1042|  4|874834944|\n",
            "|234|1184|  2|892079237|\n",
            "+---+----+---+---------+\n",
            "only showing top 20 rows\n",
            "\n"
          ],
          "name": "stdout"
        }
      ]
    },
    {
      "cell_type": "code",
      "metadata": {
        "colab_type": "code",
        "id": "u8SCPAhyJKp3",
        "colab": {}
      },
      "source": [
        "#Rename the columns of the data\n",
        "data2 = data1.withColumnRenamed(\"_c0\",\"user_id\").withColumnRenamed(\"_c1\",\"item_id\").withColumnRenamed(\"_c2\",\"rating\").withColumnRenamed(\"_c3\",\"timestamp\")"
      ],
      "execution_count": null,
      "outputs": []
    },
    {
      "cell_type": "code",
      "metadata": {
        "colab_type": "code",
        "id": "Sdw6dpPLJZmd",
        "colab": {
          "base_uri": "https://localhost:8080/",
          "height": 118
        },
        "outputId": "5b572a02-f83d-40e6-8bff-c5c59dc01ff9"
      },
      "source": [
        "#Print the Schema \n",
        "data2.printSchema()"
      ],
      "execution_count": null,
      "outputs": [
        {
          "output_type": "stream",
          "text": [
            "root\n",
            " |-- user_id: integer (nullable = true)\n",
            " |-- item_id: integer (nullable = true)\n",
            " |-- rating: integer (nullable = true)\n",
            " |-- timestamp: integer (nullable = true)\n",
            "\n"
          ],
          "name": "stdout"
        }
      ]
    },
    {
      "cell_type": "code",
      "metadata": {
        "colab_type": "code",
        "id": "HoBonKeFJjOd",
        "colab": {
          "base_uri": "https://localhost:8080/",
          "height": 101
        },
        "outputId": "45d1edf1-82ab-4062-f225-5bd221ab9d63"
      },
      "source": [
        "# We do not require timestamp column, so dropping it\n",
        "data3 = data2.drop(\"timestamp\")\n",
        "\n",
        "#print the schema now and check that timestamp column is dropped\n",
        "data3.printSchema()"
      ],
      "execution_count": null,
      "outputs": [
        {
          "output_type": "stream",
          "text": [
            "root\n",
            " |-- user_id: integer (nullable = true)\n",
            " |-- item_id: integer (nullable = true)\n",
            " |-- rating: integer (nullable = true)\n",
            "\n"
          ],
          "name": "stdout"
        }
      ]
    },
    {
      "cell_type": "code",
      "metadata": {
        "colab_type": "code",
        "id": "NQW61HIDy1p9",
        "colab": {}
      },
      "source": [
        "from pyspark.ml.evaluation import RegressionEvaluator\n",
        "from pyspark.ml.recommendation import ALS"
      ],
      "execution_count": null,
      "outputs": []
    },
    {
      "cell_type": "code",
      "metadata": {
        "colab_type": "code",
        "id": "jus-nSsly8_6",
        "colab": {}
      },
      "source": [
        "# Randomly split the data into train and test where 80% data is in train and remaining is test\n",
        "train, test = data3.randomSplit([0.8, 0.2])"
      ],
      "execution_count": null,
      "outputs": []
    },
    {
      "cell_type": "code",
      "metadata": {
        "colab_type": "code",
        "id": "3eBqFBVKzBPb",
        "colab": {}
      },
      "source": [
        "# Build a recommendation model using Alternating Least Squares\n",
        "als = ALS(userCol=\"user_id\", itemCol=\"item_id\", ratingCol=\"rating\", nonnegative=True)\n",
        "model = als.fit(train)"
      ],
      "execution_count": null,
      "outputs": []
    },
    {
      "cell_type": "code",
      "metadata": {
        "colab_type": "code",
        "id": "Zk9FJcHnzGDF",
        "colab": {
          "base_uri": "https://localhost:8080/",
          "height": 34
        },
        "outputId": "4d95bab8-1600-4e97-b36f-8f005ccbc3b8"
      },
      "source": [
        "# Evaluate the model by computing the RMSE on the test data\n",
        "predictions = model.transform(test)\n",
        "evaluator = RegressionEvaluator(metricName=\"rmse\", labelCol=\"rating\",\n",
        "                                predictionCol=\"prediction\")\n",
        "rmse = evaluator.evaluate(predictions)\n",
        "print(\"Root-mean-square error = \" + str(rmse))"
      ],
      "execution_count": null,
      "outputs": [
        {
          "output_type": "stream",
          "text": [
            "Root-mean-square error = nan\n"
          ],
          "name": "stdout"
        }
      ]
    },
    {
      "cell_type": "code",
      "metadata": {
        "colab_type": "code",
        "id": "AVl-I4OFOcfG",
        "colab": {
          "base_uri": "https://localhost:8080/",
          "height": 34
        },
        "outputId": "f2cd38bf-0789-41e6-9d5e-aef458e453be"
      },
      "source": [
        "# We got mean square error as nan previously because we did not solve the cold start problem\n",
        "#what is a cold start problem ? cold-start problem refers to when items added to the catalogue have either none or very little interactions.\n",
        "# We again train the model to solve the cold start problem\n",
        "model = ALS(userCol=\"user_id\", itemCol=\"item_id\", ratingCol=\"rating\", nonnegative=True, coldStartStrategy=\"drop\").fit(train)\n",
        "\n",
        "# print the new RMSE\n",
        "print(\"New RMSE: \", evaluator.evaluate(model.transform(test)))"
      ],
      "execution_count": null,
      "outputs": [
        {
          "output_type": "stream",
          "text": [
            "New RMSE:  0.9173221582712675\n"
          ],
          "name": "stdout"
        }
      ]
    },
    {
      "cell_type": "code",
      "metadata": {
        "id": "qV6FTVzUNGGO",
        "colab_type": "code",
        "colab": {
          "base_uri": "https://localhost:8080/",
          "height": 54
        },
        "outputId": "b97156bd-88a5-46a3-8536-66479b9f06ad"
      },
      "source": [
        "from pyspark.ml.tuning import CrossValidator\n",
        "from pyspark.ml.tuning import ParamGridBuilder\n",
        "\n",
        "# Now we try to improve the performance of the original model using cross validation and solve the cold-start problem.\n",
        "# we set cold start strategy to 'drop' to ensure we don't get NaN evaluation metrics\n",
        "\n",
        "model = ALS(userCol=\"user_id\", itemCol=\"item_id\", ratingCol=\"rating\", nonnegative = True, coldStartStrategy=\"drop\")\n",
        "\n",
        "# We use a ParamGridBuilder to construct a grid of parameters to search over.\n",
        "paramGrid = ParamGridBuilder() \\\n",
        "    .addGrid(model.regParam, [0.05,0.1, 0.01, 0.001]) \\\n",
        "    .addGrid(model.rank, [5, 10, 15,20]) \\\n",
        "    .build()\n",
        "print(paramGrid)"
      ],
      "execution_count": null,
      "outputs": [
        {
          "output_type": "stream",
          "text": [
            "[{Param(parent='ALS_4dcad8878e77', name='regParam', doc='regularization parameter (>= 0).'): 0.05, Param(parent='ALS_4dcad8878e77', name='rank', doc='rank of the factorization'): 5}, {Param(parent='ALS_4dcad8878e77', name='regParam', doc='regularization parameter (>= 0).'): 0.05, Param(parent='ALS_4dcad8878e77', name='rank', doc='rank of the factorization'): 10}, {Param(parent='ALS_4dcad8878e77', name='regParam', doc='regularization parameter (>= 0).'): 0.05, Param(parent='ALS_4dcad8878e77', name='rank', doc='rank of the factorization'): 15}, {Param(parent='ALS_4dcad8878e77', name='regParam', doc='regularization parameter (>= 0).'): 0.05, Param(parent='ALS_4dcad8878e77', name='rank', doc='rank of the factorization'): 20}, {Param(parent='ALS_4dcad8878e77', name='regParam', doc='regularization parameter (>= 0).'): 0.1, Param(parent='ALS_4dcad8878e77', name='rank', doc='rank of the factorization'): 5}, {Param(parent='ALS_4dcad8878e77', name='regParam', doc='regularization parameter (>= 0).'): 0.1, Param(parent='ALS_4dcad8878e77', name='rank', doc='rank of the factorization'): 10}, {Param(parent='ALS_4dcad8878e77', name='regParam', doc='regularization parameter (>= 0).'): 0.1, Param(parent='ALS_4dcad8878e77', name='rank', doc='rank of the factorization'): 15}, {Param(parent='ALS_4dcad8878e77', name='regParam', doc='regularization parameter (>= 0).'): 0.1, Param(parent='ALS_4dcad8878e77', name='rank', doc='rank of the factorization'): 20}, {Param(parent='ALS_4dcad8878e77', name='regParam', doc='regularization parameter (>= 0).'): 0.01, Param(parent='ALS_4dcad8878e77', name='rank', doc='rank of the factorization'): 5}, {Param(parent='ALS_4dcad8878e77', name='regParam', doc='regularization parameter (>= 0).'): 0.01, Param(parent='ALS_4dcad8878e77', name='rank', doc='rank of the factorization'): 10}, {Param(parent='ALS_4dcad8878e77', name='regParam', doc='regularization parameter (>= 0).'): 0.01, Param(parent='ALS_4dcad8878e77', name='rank', doc='rank of the factorization'): 15}, {Param(parent='ALS_4dcad8878e77', name='regParam', doc='regularization parameter (>= 0).'): 0.01, Param(parent='ALS_4dcad8878e77', name='rank', doc='rank of the factorization'): 20}, {Param(parent='ALS_4dcad8878e77', name='regParam', doc='regularization parameter (>= 0).'): 0.001, Param(parent='ALS_4dcad8878e77', name='rank', doc='rank of the factorization'): 5}, {Param(parent='ALS_4dcad8878e77', name='regParam', doc='regularization parameter (>= 0).'): 0.001, Param(parent='ALS_4dcad8878e77', name='rank', doc='rank of the factorization'): 10}, {Param(parent='ALS_4dcad8878e77', name='regParam', doc='regularization parameter (>= 0).'): 0.001, Param(parent='ALS_4dcad8878e77', name='rank', doc='rank of the factorization'): 15}, {Param(parent='ALS_4dcad8878e77', name='regParam', doc='regularization parameter (>= 0).'): 0.001, Param(parent='ALS_4dcad8878e77', name='rank', doc='rank of the factorization'): 20}]\n"
          ],
          "name": "stdout"
        }
      ]
    },
    {
      "cell_type": "code",
      "metadata": {
        "colab_type": "code",
        "id": "IVPTVx0-J0XB",
        "colab": {}
      },
      "source": [
        "\n",
        "\n",
        "# Define a cross-validator object\n",
        "# A CrossValidator requires an Estimator, a set of Estimator ParamMaps, and an Evaluator.\n",
        "crossvalidation = CrossValidator(estimator = model,\n",
        "                     estimatorParamMaps = paramGrid,\n",
        "                     evaluator = evaluator,\n",
        "                     numFolds=10)"
      ],
      "execution_count": null,
      "outputs": []
    },
    {
      "cell_type": "code",
      "metadata": {
        "colab_type": "code",
        "id": "Br3g_QqxKNjG",
        "colab": {}
      },
      "source": [
        "# Run cross-validation, and choose the best set of parameters.\n",
        "Best_model = crossvalidation.fit(train).bestModel"
      ],
      "execution_count": null,
      "outputs": []
    },
    {
      "cell_type": "code",
      "metadata": {
        "id": "Zx7zXnbVROuP",
        "colab_type": "code",
        "colab": {
          "base_uri": "https://localhost:8080/",
          "height": 34
        },
        "outputId": "f7b7e9f8-b0cc-42ea-c82d-18e65fa7f218"
      },
      "source": [
        "print(Best_model)"
      ],
      "execution_count": null,
      "outputs": [
        {
          "output_type": "stream",
          "text": [
            "ALS_4dcad8878e77\n"
          ],
          "name": "stdout"
        }
      ]
    },
    {
      "cell_type": "code",
      "metadata": {
        "colab_type": "code",
        "id": "edNlgVDLKQA5",
        "colab": {
          "base_uri": "https://localhost:8080/",
          "height": 34
        },
        "outputId": "49476620-1b93-46ca-aead-1365822fd00c"
      },
      "source": [
        "# Calculate the RMSE on test data using the best set of parameters obtained after cross validation\n",
        "print(\"RMSE value after solving cold start problem is: \", evaluator.evaluate(Best_model.transform(test)))"
      ],
      "execution_count": null,
      "outputs": [
        {
          "output_type": "stream",
          "text": [
            "RMSE value after solving cold start problem is:  0.9120687788565961\n"
          ],
          "name": "stdout"
        }
      ]
    },
    {
      "cell_type": "code",
      "metadata": {
        "colab_type": "code",
        "id": "_1UDznECKR2Z",
        "colab": {
          "base_uri": "https://localhost:8080/",
          "height": 454
        },
        "outputId": "87a19657-7932-4591-baf3-bca9e58a1e5a"
      },
      "source": [
        "# Get top 10 movie recommendations for all users\n",
        "movie_recommendation = Best_model.recommendForAllUsers(10)\n",
        "movie_recommendation.show()\n",
        "import pandas as pd\n",
        "movie_recommendation = movie_recommendation.toPandas()"
      ],
      "execution_count": null,
      "outputs": [
        {
          "output_type": "stream",
          "text": [
            "+-------+--------------------+\n",
            "|user_id|     recommendations|\n",
            "+-------+--------------------+\n",
            "|    471|[[1159, 5.761569]...|\n",
            "|    463|[[1449, 4.35156],...|\n",
            "|    833|[[1643, 4.5823517...|\n",
            "|    496|[[253, 4.5259047]...|\n",
            "|    148|[[1449, 5.324946]...|\n",
            "|    540|[[1449, 5.139265]...|\n",
            "|    392|[[1643, 5.4307027...|\n",
            "|    243|[[1449, 4.6087837...|\n",
            "|    623|[[1450, 4.601461]...|\n",
            "|    737|[[1449, 4.9151225...|\n",
            "|    897|[[1643, 5.1036468...|\n",
            "|    858|[[1664, 4.5830126...|\n",
            "|     31|[[1367, 4.716853]...|\n",
            "|    516|[[1449, 5.0852923...|\n",
            "|    580|[[753, 4.8632565]...|\n",
            "|    251|[[1643, 5.2588015...|\n",
            "|    451|[[899, 4.972542],...|\n",
            "|     85|[[1643, 4.4368505...|\n",
            "|    137|[[1019, 5.4358582...|\n",
            "|    808|[[1643, 6.216156]...|\n",
            "+-------+--------------------+\n",
            "only showing top 20 rows\n",
            "\n"
          ],
          "name": "stdout"
        }
      ]
    },
    {
      "cell_type": "code",
      "metadata": {
        "id": "vQ-DWSNKfu7r",
        "colab_type": "code",
        "colab": {
          "base_uri": "https://localhost:8080/",
          "height": 87
        },
        "outputId": "b138c4b3-33d0-4177-f3e3-1c010380513e"
      },
      "source": [
        "pd.set_option('display.max_colwidth', -1)\n",
        "print(movie_recommendation.iloc[0,1])"
      ],
      "execution_count": null,
      "outputs": [
        {
          "output_type": "stream",
          "text": [
            "[Row(item_id=1159, rating=5.761569023132324), Row(item_id=1260, rating=5.260582447052002), Row(item_id=1088, rating=5.13514518737793), Row(item_id=1472, rating=4.907766342163086), Row(item_id=538, rating=4.712424278259277), Row(item_id=1153, rating=4.696173667907715), Row(item_id=169, rating=4.690969467163086), Row(item_id=1206, rating=4.676083564758301), Row(item_id=793, rating=4.639855861663818), Row(item_id=753, rating=4.505847930908203)]\n"
          ],
          "name": "stdout"
        },
        {
          "output_type": "stream",
          "text": [
            "/usr/local/lib/python3.6/dist-packages/ipykernel_launcher.py:1: FutureWarning: Passing a negative integer is deprecated in version 1.0 and will not be supported in future version. Instead, use None to not limit the column width.\n",
            "  \"\"\"Entry point for launching an IPython kernel.\n"
          ],
          "name": "stderr"
        }
      ]
    },
    {
      "cell_type": "code",
      "metadata": {
        "id": "rPz85ZapYMrr",
        "colab_type": "code",
        "colab": {}
      },
      "source": [
        ""
      ],
      "execution_count": null,
      "outputs": []
    },
    {
      "cell_type": "code",
      "metadata": {
        "colab_type": "code",
        "id": "ROlMvUQYkKlj",
        "colab": {}
      },
      "source": [
        "users = []\n",
        "recommendations = []\n",
        "\n",
        "# For the entire data iterate \n",
        "for i in range(len(movie_recommendation)):\n",
        "\n",
        "  # First we add user_id to the list\n",
        "  users.append(movie_recommendation.iloc[i,0])\n",
        "  user_recs = \"\" \n",
        "\n",
        "  # Fetching only the item ID's from the recommendations\n",
        "  for item in movie_recommendation.iloc[i,1]:\n",
        "    user_recs = user_recs + \", \" + str(item.asDict()[\"item_id\"])\n",
        "\n",
        "  # Append the itemID's to a list\n",
        "  recommendations.append(user_recs[2:])\n",
        "\n",
        "#Convert to dataframe\n",
        "recommendations_df = pd.DataFrame(data = zip(users, recommendations), columns=[\"user\", \"itemID\"])"
      ],
      "execution_count": null,
      "outputs": []
    },
    {
      "cell_type": "code",
      "metadata": {
        "colab_type": "code",
        "id": "axf0OX_BkMqe",
        "colab": {
          "base_uri": "https://localhost:8080/",
          "height": 343
        },
        "outputId": "59561c68-fd7c-4267-c822-c43ed1dd3601"
      },
      "source": [
        "#Check the users and the top 10 movie recommendations for the first 10 users\n",
        "recommendations_df.head(10)"
      ],
      "execution_count": null,
      "outputs": [
        {
          "output_type": "execute_result",
          "data": {
            "text/html": [
              "<div>\n",
              "<style scoped>\n",
              "    .dataframe tbody tr th:only-of-type {\n",
              "        vertical-align: middle;\n",
              "    }\n",
              "\n",
              "    .dataframe tbody tr th {\n",
              "        vertical-align: top;\n",
              "    }\n",
              "\n",
              "    .dataframe thead th {\n",
              "        text-align: right;\n",
              "    }\n",
              "</style>\n",
              "<table border=\"1\" class=\"dataframe\">\n",
              "  <thead>\n",
              "    <tr style=\"text-align: right;\">\n",
              "      <th></th>\n",
              "      <th>user</th>\n",
              "      <th>itemID</th>\n",
              "    </tr>\n",
              "  </thead>\n",
              "  <tbody>\n",
              "    <tr>\n",
              "      <th>0</th>\n",
              "      <td>471</td>\n",
              "      <td>1159, 1260, 1088, 1472, 538, 1153, 169, 1206, 793, 753</td>\n",
              "    </tr>\n",
              "    <tr>\n",
              "      <th>1</th>\n",
              "      <td>463</td>\n",
              "      <td>1449, 1137, 1388, 887, 1639, 1167, 170, 119, 1512, 1062</td>\n",
              "    </tr>\n",
              "    <tr>\n",
              "      <th>2</th>\n",
              "      <td>833</td>\n",
              "      <td>1643, 1268, 853, 1597, 1367, 346, 1368, 160, 813, 641</td>\n",
              "    </tr>\n",
              "    <tr>\n",
              "      <th>3</th>\n",
              "      <td>496</td>\n",
              "      <td>253, 1449, 320, 1137, 1388, 1240, 1005, 652, 1589, 813</td>\n",
              "    </tr>\n",
              "    <tr>\n",
              "      <th>4</th>\n",
              "      <td>148</td>\n",
              "      <td>1449, 408, 902, 1589, 169, 119, 694, 114, 113, 1512</td>\n",
              "    </tr>\n",
              "    <tr>\n",
              "      <th>5</th>\n",
              "      <td>540</td>\n",
              "      <td>1449, 1643, 119, 1398, 1639, 1122, 114, 64, 1512, 318</td>\n",
              "    </tr>\n",
              "    <tr>\n",
              "      <th>6</th>\n",
              "      <td>392</td>\n",
              "      <td>1643, 1449, 1450, 483, 1398, 1064, 119, 318, 603, 357</td>\n",
              "    </tr>\n",
              "    <tr>\n",
              "      <th>7</th>\n",
              "      <td>243</td>\n",
              "      <td>1449, 1398, 483, 1099, 134, 488, 615, 1558, 1084, 1233</td>\n",
              "    </tr>\n",
              "    <tr>\n",
              "      <th>8</th>\n",
              "      <td>623</td>\n",
              "      <td>1450, 496, 1643, 483, 50, 1449, 611, 174, 1064, 1473</td>\n",
              "    </tr>\n",
              "    <tr>\n",
              "      <th>9</th>\n",
              "      <td>737</td>\n",
              "      <td>1449, 60, 1512, 1643, 114, 1368, 59, 850, 179, 156</td>\n",
              "    </tr>\n",
              "  </tbody>\n",
              "</table>\n",
              "</div>"
            ],
            "text/plain": [
              "   user                                                   itemID\n",
              "0  471   1159, 1260, 1088, 1472, 538, 1153, 169, 1206, 793, 753 \n",
              "1  463   1449, 1137, 1388, 887, 1639, 1167, 170, 119, 1512, 1062\n",
              "2  833   1643, 1268, 853, 1597, 1367, 346, 1368, 160, 813, 641  \n",
              "3  496   253, 1449, 320, 1137, 1388, 1240, 1005, 652, 1589, 813 \n",
              "4  148   1449, 408, 902, 1589, 169, 119, 694, 114, 113, 1512    \n",
              "5  540   1449, 1643, 119, 1398, 1639, 1122, 114, 64, 1512, 318  \n",
              "6  392   1643, 1449, 1450, 483, 1398, 1064, 119, 318, 603, 357  \n",
              "7  243   1449, 1398, 483, 1099, 134, 488, 615, 1558, 1084, 1233 \n",
              "8  623   1450, 496, 1643, 483, 50, 1449, 611, 174, 1064, 1473   \n",
              "9  737   1449, 60, 1512, 1643, 114, 1368, 59, 850, 179, 156     "
            ]
          },
          "metadata": {
            "tags": []
          },
          "execution_count": 25
        }
      ]
    },
    {
      "cell_type": "code",
      "metadata": {
        "colab_type": "code",
        "id": "H5aGAzrUkNGs",
        "colab": {}
      },
      "source": [
        "#write to a text file\n",
        "recommendations_df.to_csv('/content/ml-100k/recommendation.txt', sep='\\t', index=False)"
      ],
      "execution_count": null,
      "outputs": []
    }
  ]
}